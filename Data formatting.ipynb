{
 "cells": [
  {
   "cell_type": "markdown",
   "metadata": {},
   "source": [
    "# Data Formatting"
   ]
  },
  {
   "cell_type": "markdown",
   "metadata": {},
   "source": [
    "### import modules"
   ]
  },
  {
   "cell_type": "code",
   "execution_count": 51,
   "metadata": {},
   "outputs": [],
   "source": [
    "import csv\n",
    "import xml.etree.ElementTree as ET\n",
    "import re\n",
    "from numpy import array\n",
    "import cpplotter\n",
    "from cpcsc import get_node_count\n",
    "import matplotlib.pyplot as plt\n",
    "import numpy as np\n",
    "import pandas as pd\n",
    "import pickle\n",
    "from statistics import mean\n",
    "from numpy import nan"
   ]
  },
  {
   "cell_type": "markdown",
   "metadata": {},
   "source": [
    "### Variables declaration"
   ]
  },
  {
   "cell_type": "code",
   "execution_count": 88,
   "metadata": {},
   "outputs": [],
   "source": [
    "nodes_with_eh=[2,3,4,5,6]\n",
    "battery_capacity=265420800\n",
    "period = 30\n",
    "cutoff = 16800\n",
    "wrap = True\n",
    "panel_area = 100 # area of the solar panel, in cm²\n",
    "factor=panel_area*32768/1000000      # 32768 ticks per second     #/1000000 uW to W"
   ]
  },
  {
   "cell_type": "markdown",
   "metadata": {},
   "source": [
    "## 1- Irradiation data formatting"
   ]
  },
  {
   "cell_type": "markdown",
   "metadata": {},
   "source": [
    "### Sampling reduction of original dataset"
   ]
  },
  {
   "cell_type": "code",
   "execution_count": 53,
   "metadata": {},
   "outputs": [],
   "source": [
    "mylines = []\n",
    "dataset_sampling_period=0.5    #in minutes\n",
    "target_sampling_period=30      #in minutes\n",
    "with open('columbia_irr_only_no_gaps.csv', newline='') as csvfile:\n",
    "    spamreader = csv.reader(csvfile, delimiter=' ', quotechar='|')\n",
    "    for myline in spamreader:\n",
    "        x=myline[0].split(\",\")\n",
    "        mylines.append(float(x[1]))\n",
    "s=int(target_sampling_period/dataset_sampling_period)\n",
    "i=0\n",
    "j=0\n",
    "while(1):\n",
    "    try:\n",
    "#         print(\"%d\" %j +\",%.2f\" % (mylines[i]*s))\n",
    "        i+=s\n",
    "        j+=1\n",
    "        if j==560:\n",
    "            break\n",
    "    except:\n",
    "        exit()"
   ]
  },
  {
   "cell_type": "code",
   "execution_count": 54,
   "metadata": {},
   "outputs": [],
   "source": [
    "irr=pd.read_csv(\"dataset.csv\",index_col=\"id\")"
   ]
  },
  {
   "cell_type": "markdown",
   "metadata": {},
   "source": [
    "## 2- Log listener data formatting"
   ]
  },
  {
   "cell_type": "code",
   "execution_count": 175,
   "metadata": {},
   "outputs": [],
   "source": [
    "def log_parse(target):\n",
    "    data=[]\n",
    "    with open(target, newline='') as csvfile:\n",
    "        spamreader = csv.reader(csvfile, delimiter='\\t', quotechar='|')\n",
    "        for row in spamreader:\n",
    "            data.append(row)\n",
    "\n",
    "    data=pd.DataFrame(data)\n",
    "    data.columns=[\"time\", \"ID\", \"data\"]\n",
    "    time=[]\n",
    "    id=[]\n",
    "    for i in data[\"time\"]:\n",
    "        l=len(i)          #length of time str\n",
    "        if l==9:             # if time format:   55:20.325\n",
    "            time.append(int(i[0:2]))                                    # time in minutes\n",
    "        else:                # if time format: 1:55:20.325\n",
    "            limit=i.find(':') \n",
    "            time.append(int(i[0:limit])*60+int(i[limit+1:limit+3]))   # time in minutes\n",
    "    for i in data[\"ID\"]:\n",
    "        id.append(int(i[i.find(':')+1:]))\n",
    "\n",
    "    cpu=[]\n",
    "    lpm=[]\n",
    "    tx=[]\n",
    "    rx=[]\n",
    "    rem_energy=[]\n",
    "\n",
    "    for i in data[\"data\"]:\n",
    "        if not i.find('[BATT] Ticks diff'):\n",
    "            lpm.append(int(i[i.find('LPM')+4:i.find('TX')-2]))\n",
    "            cpu.append(int(i[23:i.find('LPM')-2]))\n",
    "            rx.append(int(i[i.find('RX')+3:]))\n",
    "            tx.append(int(i[i.find('TX')+3:i.find('RX')-2]))\n",
    "            rem_energy.append(None)\n",
    "        elif not i.find('[BATT] Energy'):                #find remaining energy lines \n",
    "            rem_energy.append(int(i[25:i.find('.')]))\n",
    "            cpu.append(None)\n",
    "            lpm.append(None)\n",
    "            rx.append(None)\n",
    "            tx.append(None)\n",
    "        else:\n",
    "            rem_energy.append(None)\n",
    "            cpu.append(None)\n",
    "            lpm.append(None)\n",
    "            rx.append(None)\n",
    "            tx.append(None)\n",
    "\n",
    "    time_df=pd.DataFrame({'time': time})\n",
    "    id_df=pd.DataFrame({'ID': id})\n",
    "    data.update(time_df)\n",
    "    data.update(id_df)\n",
    "    data.insert(2,'remaining energy',rem_energy,True)\n",
    "    data.insert(3,'lpm',lpm,True)\n",
    "    data.insert(4,'cpu',cpu,True)\n",
    "    data.insert(5,'rx',rx,True)\n",
    "    data.insert(6,'tx',tx,True)\n",
    "    data.drop('data', axis=1, inplace=True)\n",
    "\n",
    "      \n",
    "    irr['harv'] = round(irr['harv'].multiply(factor),2)    # in W*tick during 30 minutes\n",
    "\n",
    "    harv = pd.DataFrame(columns=['time','ID','harvested energy'])\n",
    "    \n",
    "    for i in nodes_with_eh:\n",
    "        harvested=data.loc[data['ID'] == i][['time','ID',\"remaining energy\"]].dropna().reset_index()\n",
    "        harvested.insert(2, \"harvested energy\", irr, True) \n",
    "        harvested=harvested.set_index('index')\n",
    "        harv=pd.concat([harv,harvested])\n",
    "\n",
    "    harv=harv.drop([\"time\",\"ID\",\"remaining energy\"],axis=1)\n",
    "    data=pd.concat([data,harv], axis=1)\n",
    "    \n",
    "    \n",
    "    df = pd.DataFrame(columns=[\"remaining energy after eh\", \"added\"])\n",
    "    for n in nodes_with_eh:    \n",
    "        list_after_eh=[]\n",
    "        l=data.loc[data['ID'] == n][['remaining energy','harvested energy']].dropna()\n",
    "        index=l.index.values.tolist()\n",
    "        list=l.values.tolist()\n",
    "        add=0\n",
    "        for i in list:\n",
    "            if i[0]+i[1]+add>battery_capacity:\n",
    "                i[0]=battery_capacity\n",
    "                i[1]=battery_capacity-i[0]\n",
    "                add+=battery_capacity-i[0]\n",
    "            else:\n",
    "                add+=i[1]\n",
    "                i[0]+=add\n",
    "            list_after_eh.append(i)\n",
    "        add=0\n",
    "        df = pd.concat([df,pd.DataFrame(list_after_eh, columns=[\"remaining energy after eh\", \"added\"], index=index)])\n",
    "\n",
    "    data=pd.concat([data,df], axis=1)\n",
    "    \n",
    "    \n",
    "    return(data)"
   ]
  },
  {
   "cell_type": "code",
   "execution_count": 176,
   "metadata": {},
   "outputs": [],
   "source": [
    "data=log_parse(\"loglistener.txt\")\n",
    "data.to_csv('data.csv', index=False)"
   ]
  },
  {
   "cell_type": "code",
   "execution_count": 177,
   "metadata": {},
   "outputs": [],
   "source": [
    "data=pd.read_csv(\"data.csv\")"
   ]
  },
  {
   "cell_type": "code",
   "execution_count": null,
   "metadata": {},
   "outputs": [],
   "source": []
  },
  {
   "cell_type": "code",
   "execution_count": null,
   "metadata": {},
   "outputs": [],
   "source": []
  },
  {
   "cell_type": "code",
   "execution_count": null,
   "metadata": {},
   "outputs": [],
   "source": []
  },
  {
   "cell_type": "code",
   "execution_count": null,
   "metadata": {},
   "outputs": [],
   "source": []
  },
  {
   "cell_type": "code",
   "execution_count": null,
   "metadata": {},
   "outputs": [],
   "source": []
  },
  {
   "cell_type": "code",
   "execution_count": null,
   "metadata": {},
   "outputs": [],
   "source": []
  },
  {
   "cell_type": "code",
   "execution_count": null,
   "metadata": {},
   "outputs": [],
   "source": []
  },
  {
   "cell_type": "code",
   "execution_count": null,
   "metadata": {},
   "outputs": [],
   "source": []
  },
  {
   "cell_type": "code",
   "execution_count": null,
   "metadata": {},
   "outputs": [],
   "source": []
  }
 ],
 "metadata": {
  "kernelspec": {
   "display_name": "Python 3",
   "language": "python",
   "name": "python3"
  },
  "language_info": {
   "codemirror_mode": {
    "name": "ipython",
    "version": 3
   },
   "file_extension": ".py",
   "mimetype": "text/x-python",
   "name": "python",
   "nbconvert_exporter": "python",
   "pygments_lexer": "ipython3",
   "version": "3.7.6"
  }
 },
 "nbformat": 4,
 "nbformat_minor": 4
}
