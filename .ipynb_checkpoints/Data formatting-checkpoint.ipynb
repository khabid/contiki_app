{
 "cells": [
  {
   "cell_type": "markdown",
   "metadata": {},
   "source": [
    "# Data Formatting"
   ]
  },
  {
   "cell_type": "markdown",
   "metadata": {},
   "source": [
    "### import modules"
   ]
  },
  {
   "cell_type": "code",
   "execution_count": 51,
   "metadata": {},
   "outputs": [],
   "source": [
    "import csv\n",
    "import xml.etree.ElementTree as ET\n",
    "import re\n",
    "from numpy import array\n",
    "import cpplotter\n",
    "from cpcsc import get_node_count\n",
    "import matplotlib.pyplot as plt\n",
    "import numpy as np\n",
    "import pandas as pd\n",
    "import pickle\n",
    "from statistics import mean\n",
    "from numpy import nan"
   ]
  },
  {
   "cell_type": "markdown",
   "metadata": {},
   "source": [
    "### Variables declaration"
   ]
  },
  {
   "cell_type": "code",
   "execution_count": 88,
   "metadata": {},
   "outputs": [],
   "source": [
    "nodes_with_eh=[2,3,4,5,6]\n",
    "battery_capacity=265420800\n",
    "period = 30\n",
    "cutoff = 16800\n",
    "wrap = True\n",
    "panel_area = 100 # area of the solar panel, in cm²\n",
    "factor=panel_area*32768/1000000      # 32768 ticks per second     #/1000000 uW to W"
   ]
  },
  {
   "cell_type": "markdown",
   "metadata": {},
   "source": [
    "## 1- Irradiation data formatting"
   ]
  },
  {
   "cell_type": "markdown",
   "metadata": {},
   "source": [
    "### Sampling reduction of original dataset"
   ]
  },
  {
   "cell_type": "code",
   "execution_count": 53,
   "metadata": {},
   "outputs": [],
   "source": [
    "mylines = []\n",
    "dataset_sampling_period=0.5    #in minutes\n",
    "target_sampling_period=30      #in minutes\n",
    "with open('columbia_irr_only_no_gaps.csv', newline='') as csvfile:\n",
    "    spamreader = csv.reader(csvfile, delimiter=' ', quotechar='|')\n",
    "    for myline in spamreader:\n",
    "        x=myline[0].split(\",\")\n",
    "        mylines.append(float(x[1]))\n",
    "s=int(target_sampling_period/dataset_sampling_period)\n",
    "i=0\n",
    "j=0\n",
    "while(1):\n",
    "    try:\n",
    "#         print(\"%d\" %j +\",%.2f\" % (mylines[i]*s))\n",
    "        i+=s\n",
    "        j+=1\n",
    "        if j==560:\n",
    "            break\n",
    "    except:\n",
    "        exit()"
   ]
  },
  {
   "cell_type": "code",
   "execution_count": 54,
   "metadata": {},
   "outputs": [],
   "source": [
    "irr=pd.read_csv(\"dataset.csv\",index_col=\"id\")"
   ]
  },
  {
   "cell_type": "markdown",
   "metadata": {},
   "source": [
    "## 2- Log listener data formatting"
   ]
  },
  {
   "cell_type": "code",
   "execution_count": 55,
   "metadata": {},
   "outputs": [],
   "source": [
    "def log_parse(target):\n",
    "    data=[]\n",
    "    with open(target, newline='') as csvfile:\n",
    "        spamreader = csv.reader(csvfile, delimiter='\\t', quotechar='|')\n",
    "        for row in spamreader:\n",
    "            data.append(row)\n",
    "\n",
    "    data=pd.DataFrame(data)\n",
    "    data.columns=[\"time\", \"ID\", \"data\"]\n",
    "    time=[]\n",
    "    id=[]\n",
    "    for i in data[\"time\"]:\n",
    "        l=len(i)          #length of time str\n",
    "        if l==9:             # if time format:   55:20.325\n",
    "            time.append(int(i[0:2]))                                    # time in minutes\n",
    "        else:                # if time format: 1:55:20.325\n",
    "            limit=i.find(':') \n",
    "            time.append(int(i[0:limit])*60+int(i[limit+1:limit+3]))   # time in minutes\n",
    "    for i in data[\"ID\"]:\n",
    "        id.append(int(i[i.find(':')+1:]))\n",
    "\n",
    "    cpu=[]\n",
    "    lpm=[]\n",
    "    tx=[]\n",
    "    rx=[]\n",
    "    rem_energy=[]\n",
    "\n",
    "    for i in data[\"data\"]:\n",
    "        if not i.find('[BATT] Ticks diff'):\n",
    "            lpm.append(int(i[i.find('LPM')+4:i.find('TX')-2]))\n",
    "            cpu.append(int(i[23:i.find('LPM')-2]))\n",
    "            rx.append(int(i[i.find('RX')+3:]))\n",
    "            tx.append(int(i[i.find('TX')+3:i.find('RX')-2]))\n",
    "            rem_energy.append(None)\n",
    "        elif not i.find('[BATT] Energy'):                #find remaining energy lines \n",
    "            rem_energy.append(int(i[25:i.find('.')]))\n",
    "            cpu.append(None)\n",
    "            lpm.append(None)\n",
    "            rx.append(None)\n",
    "            tx.append(None)\n",
    "        else:\n",
    "            rem_energy.append(None)\n",
    "            cpu.append(None)\n",
    "            lpm.append(None)\n",
    "            rx.append(None)\n",
    "            tx.append(None)\n",
    "\n",
    "    time_df=pd.DataFrame({'time': time})\n",
    "    id_df=pd.DataFrame({'ID': id})\n",
    "    data.update(time_df)\n",
    "    data.update(id_df)\n",
    "    data.insert(2,'remaining energy',rem_energy,True)\n",
    "    data.insert(3,'lpm',lpm,True)\n",
    "    data.insert(4,'cpu',cpu,True)\n",
    "    data.insert(5,'rx',rx,True)\n",
    "    data.insert(6,'tx',tx,True)\n",
    "    data.drop('data', axis=1, inplace=True)\n",
    "\n",
    "      \n",
    "    irr['harv'] = round(irr['harv'].multiply(factor),2)    # in W*tick during 30 minutes\n",
    "\n",
    "    harv = pd.DataFrame(columns=['time','ID','harvested energy'])\n",
    "    \n",
    "    for i in nodes_with_eh:\n",
    "        harvested=data.loc[data['ID'] == i][['time','ID',\"remaining energy\"]].dropna().reset_index()\n",
    "        harvested.insert(2, \"harvested energy\", irr, True) \n",
    "        harvested=harvested.set_index('index')\n",
    "        harv=pd.concat([harv,harvested])\n",
    "\n",
    "    harv=harv.drop([\"time\",\"ID\",\"remaining energy\"],axis=1)\n",
    "    data=pd.concat([data,harv], axis=1)\n",
    "    return(data)"
   ]
  },
  {
   "cell_type": "code",
   "execution_count": 56,
   "metadata": {},
   "outputs": [],
   "source": [
    "data=log_parse(\"loglistener.txt\")\n",
    "data.to_csv('data.csv', index=False)"
   ]
  },
  {
   "cell_type": "code",
   "execution_count": 57,
   "metadata": {},
   "outputs": [],
   "source": [
    "data=pd.read_csv(\"data.csv\")"
   ]
  },
  {
   "cell_type": "code",
   "execution_count": 98,
   "metadata": {},
   "outputs": [
    {
     "name": "stdout",
     "output_type": "stream",
     "text": [
      "[[265420800.0, 1.97], [265077744.0, 3.93], [264797184.0, 3.93], [264654624.0, 3.93], [264511332.0, 3.93], [264368652.0, 3.93], [264225396.0, 3.93], [264082956.0, 3.93], [263940072.0, 3.93], [263797524.0, 3.93], [263654868.0, 1.97], [263513232.0, 3.93], [263370240.0, 3.93], [263228268.0, 167.12], [263085780.0, 1362.49], [262943040.0, 2929.46], [262802076.0, 15596.91], [262672272.0, 14472.31], [262574256.0, 16115.96], [262477512.0, 5538.45], [262381476.0, 5078.38], [262284432.0, 10091.89], [262187688.0, 12016.68], [262090968.0, 10074.19], [261994224.0, 15195.83], [261896424.0, 8658.62], [261799440.0, 20488.52]]\n"
     ]
    }
   ],
   "source": [
    "l=data.loc[data['ID'] == 2][['remaining energy','harvested energy']].dropna()\n",
    "list=l.values.tolist()\n",
    "index=l.index.values.tolist()\n",
    "print(list)"
   ]
  },
  {
   "cell_type": "code",
   "execution_count": 99,
   "metadata": {},
   "outputs": [
    {
     "data": {
      "text/plain": [
       "[[265420800.0, 1.97],\n",
       " [265077744.0, 3.93],\n",
       " [264797184.0, 3.93],\n",
       " [264654624.0, 3.93],\n",
       " [264511332.0, 3.93],\n",
       " [264368652.0, 3.93],\n",
       " [264225396.0, 3.93],\n",
       " [264082956.0, 3.93],\n",
       " [263940072.0, 3.93],\n",
       " [263797524.0, 3.93],\n",
       " [263654868.0, 1.97],\n",
       " [263513232.0, 3.93],\n",
       " [263370240.0, 3.93],\n",
       " [263228268.0, 167.12],\n",
       " [263085780.0, 1362.49],\n",
       " [262943040.0, 2929.46],\n",
       " [262802076.0, 15596.91],\n",
       " [262672272.0, 14472.31],\n",
       " [262574256.0, 16115.96],\n",
       " [262477512.0, 5538.45],\n",
       " [262381476.0, 5078.38],\n",
       " [262284432.0, 10091.89],\n",
       " [262187688.0, 12016.68],\n",
       " [262090968.0, 10074.19],\n",
       " [261994224.0, 15195.83],\n",
       " [261896424.0, 8658.62],\n",
       " [261799440.0, 20488.52]]"
      ]
     },
     "execution_count": 99,
     "metadata": {},
     "output_type": "execute_result"
    }
   ],
   "source": [
    "list"
   ]
  },
  {
   "cell_type": "code",
   "execution_count": 101,
   "metadata": {},
   "outputs": [
    {
     "name": "stdout",
     "output_type": "stream",
     "text": [
      "[265420800, 1.97]\n",
      "[265077751.86, 3.93]\n",
      "[264797195.79000002, 3.93]\n",
      "[264654639.72, 3.93]\n",
      "[264511351.65, 3.93]\n",
      "[264368675.58, 3.93]\n",
      "[264225423.51000002, 3.93]\n",
      "[264082987.44, 3.93]\n",
      "[263940107.37, 3.93]\n",
      "[263797563.3, 3.93]\n",
      "[263654907.31, 1.97]\n",
      "[263513277.20000002, 3.93]\n",
      "[263370289.13, 3.93]\n",
      "[263228647.44, 167.12]\n",
      "[263088717.3, 1362.49]\n",
      "[262950473.73000002, 2929.46]\n",
      "[262837774.09, 15596.91]\n",
      "[262721317.8, 14472.31]\n",
      "[262641061.41, 16115.96]\n",
      "[262539278.35, 5538.45]\n",
      "[262447860.66, 5078.38]\n",
      "[262365922.05999997, 10091.89]\n",
      "[262283119.53, 12016.68]\n",
      "[262194531.23, 10074.19]\n",
      "[262118104.70000002, 15195.83]\n",
      "[262022426.11, 8658.62]\n",
      "[261957760.53, 20488.52]\n"
     ]
    }
   ],
   "source": [
    "added=[]\n",
    "add=0\n",
    "for i in list:\n",
    "    if i[0]+i[1]>battery_capacity:\n",
    "        i[0]=battery_capacity\n",
    "        added.append(battery_capacity-i[0])\n",
    "        add+=battery_capacity-i[0]\n",
    "    else:\n",
    "        add+=i[1]\n",
    "        i[0]=i[0]+add\n",
    "    print(i)\n"
   ]
  },
  {
   "cell_type": "code",
   "execution_count": null,
   "metadata": {},
   "outputs": [],
   "source": [
    "\n",
    "    "
   ]
  },
  {
   "cell_type": "code",
   "execution_count": null,
   "metadata": {},
   "outputs": [],
   "source": []
  }
 ],
 "metadata": {
  "kernelspec": {
   "display_name": "Python 3",
   "language": "python",
   "name": "python3"
  },
  "language_info": {
   "codemirror_mode": {
    "name": "ipython",
    "version": 3
   },
   "file_extension": ".py",
   "mimetype": "text/x-python",
   "name": "python",
   "nbconvert_exporter": "python",
   "pygments_lexer": "ipython3",
   "version": "3.7.6"
  }
 },
 "nbformat": 4,
 "nbformat_minor": 4
}
